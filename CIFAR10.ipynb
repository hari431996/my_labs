{
  "nbformat": 4,
  "nbformat_minor": 0,
  "metadata": {
    "colab": {
      "name": "CIFAR10.ipynb",
      "provenance": [],
      "authorship_tag": "ABX9TyPkdZqqZ3O79t8mIEflluJf",
      "include_colab_link": true
    },
    "kernelspec": {
      "name": "python3",
      "display_name": "Python 3"
    },
    "accelerator": "TPU"
  },
  "cells": [
    {
      "cell_type": "markdown",
      "metadata": {
        "id": "view-in-github",
        "colab_type": "text"
      },
      "source": [
        "<a href=\"https://colab.research.google.com/github/hari431996/my_labs/blob/main/CIFAR10.ipynb\" target=\"_parent\"><img src=\"https://colab.research.google.com/assets/colab-badge.svg\" alt=\"Open In Colab\"/></a>"
      ]
    },
    {
      "cell_type": "code",
      "metadata": {
        "id": "S9f3s62wioXC"
      },
      "source": [
        ""
      ],
      "execution_count": null,
      "outputs": []
    },
    {
      "cell_type": "markdown",
      "metadata": {
        "id": "9t03LiYYi166"
      },
      "source": [
        "The following notebook, is for CIFAR 10 dataset. with various techniques like batch normalisation , and different types of activation functions."
      ]
    },
    {
      "cell_type": "code",
      "metadata": {
        "id": "htLb-o_Qi3yW"
      },
      "source": [
        "#imports\n",
        "import tensorflow as tf\n",
        "import numpy as np\n",
        "import matplotlib.pyplot as plt"
      ],
      "execution_count": null,
      "outputs": []
    },
    {
      "cell_type": "code",
      "metadata": {
        "colab": {
          "base_uri": "https://localhost:8080/"
        },
        "id": "xkXDIcaLi_fx",
        "outputId": "777bf789-d8cb-42cf-a199-890a48ed1c62"
      },
      "source": [
        "#importing datasets\n",
        "cifar10 = tf.keras.datasets.cifar10\n",
        "(x_train, y_train), (x_test, y_test) = cifar10.load_data()"
      ],
      "execution_count": null,
      "outputs": [
        {
          "output_type": "stream",
          "text": [
            "Downloading data from https://www.cs.toronto.edu/~kriz/cifar-10-python.tar.gz\n",
            "170500096/170498071 [==============================] - 5s 0us/step\n"
          ],
          "name": "stdout"
        }
      ]
    },
    {
      "cell_type": "code",
      "metadata": {
        "colab": {
          "base_uri": "https://localhost:8080/"
        },
        "id": "KYMING_hjY8G",
        "outputId": "c9e6f9ca-dc4d-4396-8288-0d3c18943022"
      },
      "source": [
        "#Data preprocessing\n",
        "x_train , x_test = x_train/255, x_test/255\n",
        "y_train = y_train.flatten()\n",
        "y_test = y_test.flatten()\n",
        "x_train.shape[1:]"
      ],
      "execution_count": null,
      "outputs": [
        {
          "output_type": "execute_result",
          "data": {
            "text/plain": [
              "(32, 32, 3)"
            ]
          },
          "metadata": {
            "tags": []
          },
          "execution_count": 3
        }
      ]
    },
    {
      "cell_type": "code",
      "metadata": {
        "id": "7TjbSVlujcBZ"
      },
      "source": [
        "#building the model with early stopping call backs and nadam optimiser\n",
        "tf.keras.backend.clear_session()\n",
        "model = tf.keras.models.Sequential()\n",
        "model.add(tf.keras.layers.Flatten(input_shape=[32,32,3]))\n",
        "for _ in range(20):\n",
        "  model.add(tf.keras.layers.Dense(100, activation='elu',kernel_initializer='he_normal'))\n",
        "model.add(tf.keras.layers.Dense(10, activation='softmax'))"
      ],
      "execution_count": null,
      "outputs": []
    },
    {
      "cell_type": "code",
      "metadata": {
        "id": "6WfcrWvSkPBn"
      },
      "source": [
        "#compiling the model\n",
        "opti = tf.keras.optimizers.Nadam(learning_rate=5e-5)\n",
        "model.compile(optimizer=opti, loss=tf.keras.losses.sparse_categorical_crossentropy, metrics=['accuracy'])"
      ],
      "execution_count": null,
      "outputs": []
    },
    {
      "cell_type": "code",
      "metadata": {
        "colab": {
          "base_uri": "https://localhost:8080/"
        },
        "id": "vcc6uP4htLjl",
        "outputId": "8e5cddff-c7b5-4620-d028-678ac2ad0e18"
      },
      "source": [
        "#fitting the model \n",
        "early_stop = tf.keras.callbacks.EarlyStopping(patience=10, restore_best_weights=True)\n",
        "checkpoint = tf.keras.callbacks.ModelCheckpoint(\"cifar_10_model.h5\", save_best_only=True)\n",
        "r = model.fit(x_train, y_train, epochs=100, validation_split=0.2, callbacks=[early_stop, checkpoint])\n",
        "model = tf.keras.models.load_model(\"cifar_10_model.h5\")\n",
        "model.evaluate(x_test, y_test)"
      ],
      "execution_count": null,
      "outputs": [
        {
          "output_type": "stream",
          "text": [
            "Epoch 1/100\n",
            "1250/1250 [==============================] - 17s 13ms/step - loss: 1.7598 - accuracy: 0.3631 - val_loss: 1.7278 - val_accuracy: 0.3821\n",
            "Epoch 2/100\n",
            "1250/1250 [==============================] - 17s 13ms/step - loss: 1.6678 - accuracy: 0.3972 - val_loss: 1.6795 - val_accuracy: 0.3967\n",
            "Epoch 3/100\n",
            "1250/1250 [==============================] - 17s 14ms/step - loss: 1.6026 - accuracy: 0.4218 - val_loss: 1.6361 - val_accuracy: 0.4110\n",
            "Epoch 4/100\n",
            "1250/1250 [==============================] - 18s 15ms/step - loss: 1.5507 - accuracy: 0.4402 - val_loss: 1.5910 - val_accuracy: 0.4304\n",
            "Epoch 5/100\n",
            "1250/1250 [==============================] - 17s 14ms/step - loss: 1.5085 - accuracy: 0.4607 - val_loss: 1.5565 - val_accuracy: 0.4424\n",
            "Epoch 6/100\n",
            "1250/1250 [==============================] - 17s 14ms/step - loss: 1.4736 - accuracy: 0.4706 - val_loss: 1.5447 - val_accuracy: 0.4536\n",
            "Epoch 7/100\n",
            "1250/1250 [==============================] - 17s 14ms/step - loss: 1.4439 - accuracy: 0.4829 - val_loss: 1.5357 - val_accuracy: 0.4566\n",
            "Epoch 8/100\n",
            "1250/1250 [==============================] - 17s 14ms/step - loss: 1.4191 - accuracy: 0.4901 - val_loss: 1.5169 - val_accuracy: 0.4607\n",
            "Epoch 9/100\n",
            "1250/1250 [==============================] - 17s 14ms/step - loss: 1.3940 - accuracy: 0.5005 - val_loss: 1.5163 - val_accuracy: 0.4665\n",
            "Epoch 10/100\n",
            "1250/1250 [==============================] - 17s 14ms/step - loss: 1.3732 - accuracy: 0.5074 - val_loss: 1.4897 - val_accuracy: 0.4791\n",
            "Epoch 11/100\n",
            "1250/1250 [==============================] - 17s 14ms/step - loss: 1.3501 - accuracy: 0.5151 - val_loss: 1.5161 - val_accuracy: 0.4648\n",
            "Epoch 12/100\n",
            "1250/1250 [==============================] - 17s 14ms/step - loss: 1.3312 - accuracy: 0.5214 - val_loss: 1.4813 - val_accuracy: 0.4763\n",
            "Epoch 13/100\n",
            "1250/1250 [==============================] - 17s 13ms/step - loss: 1.3115 - accuracy: 0.5277 - val_loss: 1.4744 - val_accuracy: 0.4806\n",
            "Epoch 14/100\n",
            "1250/1250 [==============================] - 17s 13ms/step - loss: 1.2911 - accuracy: 0.5357 - val_loss: 1.4728 - val_accuracy: 0.4836\n",
            "Epoch 15/100\n",
            "1250/1250 [==============================] - 18s 14ms/step - loss: 1.2742 - accuracy: 0.5415 - val_loss: 1.4590 - val_accuracy: 0.4863\n",
            "Epoch 16/100\n",
            "1250/1250 [==============================] - 17s 13ms/step - loss: 1.2603 - accuracy: 0.5503 - val_loss: 1.4603 - val_accuracy: 0.4952\n",
            "Epoch 17/100\n",
            "1250/1250 [==============================] - 18s 14ms/step - loss: 1.2433 - accuracy: 0.5548 - val_loss: 1.4761 - val_accuracy: 0.4874\n",
            "Epoch 18/100\n",
            "1250/1250 [==============================] - 17s 14ms/step - loss: 1.2284 - accuracy: 0.5610 - val_loss: 1.4732 - val_accuracy: 0.4887\n",
            "Epoch 19/100\n",
            "1250/1250 [==============================] - 17s 13ms/step - loss: 1.2123 - accuracy: 0.5634 - val_loss: 1.4691 - val_accuracy: 0.4904\n",
            "Epoch 20/100\n",
            "1250/1250 [==============================] - 17s 13ms/step - loss: 1.1944 - accuracy: 0.5708 - val_loss: 1.4757 - val_accuracy: 0.4901\n",
            "Epoch 21/100\n",
            "1250/1250 [==============================] - 17s 14ms/step - loss: 1.1812 - accuracy: 0.5752 - val_loss: 1.4742 - val_accuracy: 0.4918\n",
            "Epoch 22/100\n",
            "1250/1250 [==============================] - 17s 14ms/step - loss: 1.1663 - accuracy: 0.5801 - val_loss: 1.4958 - val_accuracy: 0.4887\n",
            "Epoch 23/100\n",
            "1250/1250 [==============================] - 18s 14ms/step - loss: 1.1516 - accuracy: 0.5859 - val_loss: 1.4717 - val_accuracy: 0.4972\n",
            "Epoch 24/100\n",
            "1250/1250 [==============================] - 20s 16ms/step - loss: 1.1367 - accuracy: 0.5917 - val_loss: 1.4843 - val_accuracy: 0.4923\n",
            "Epoch 25/100\n",
            "1250/1250 [==============================] - 17s 14ms/step - loss: 1.1247 - accuracy: 0.5968 - val_loss: 1.4712 - val_accuracy: 0.4982\n",
            "313/313 [==============================] - 1s 3ms/step - loss: 1.4426 - accuracy: 0.4869\n"
          ],
          "name": "stdout"
        },
        {
          "output_type": "execute_result",
          "data": {
            "text/plain": [
              "[1.4425958395004272, 0.4869000017642975]"
            ]
          },
          "metadata": {
            "tags": []
          },
          "execution_count": 16
        }
      ]
    },
    {
      "cell_type": "code",
      "metadata": {
        "colab": {
          "base_uri": "https://localhost:8080/",
          "height": 282
        },
        "id": "l0YmccvJuDaa",
        "outputId": "dfe33b0d-a365-497c-fb3a-9ac117d53669"
      },
      "source": [
        "#plotting the loss and val_loss\n",
        "plt.plot(r.history['loss'], label='loss')\n",
        "plt.plot(r.history['val_loss'], label='val_loss')\n",
        "plt.legend()"
      ],
      "execution_count": null,
      "outputs": [
        {
          "output_type": "execute_result",
          "data": {
            "text/plain": [
              "<matplotlib.legend.Legend at 0x7f844da767d0>"
            ]
          },
          "metadata": {
            "tags": []
          },
          "execution_count": 17
        },
        {
          "output_type": "display_data",
          "data": {
            "image/png": "[encoded data removed]",
            "text/plain": [
              "<Figure size 432x288 with 1 Axes>"
            ]
          },
          "metadata": {
            "tags": [],
            "needs_background": "light"
          }
        }
      ]
    },
    {
      "cell_type": "markdown",
      "metadata": {
        "id": "jHCeHVoD2N4r"
      },
      "source": [
        "The training loss, is decreasing with the epochs but, the validation loss remains constant after the first 5 epochs."
      ]
    },
    {
      "cell_type": "code",
      "metadata": {
        "colab": {
          "base_uri": "https://localhost:8080/",
          "height": 282
        },
        "id": "gGIH9zNu2JVs",
        "outputId": "a26468b5-b852-4622-ed9b-37596393a12e"
      },
      "source": [
        "#plotting the accuracy and val_accuracy\n",
        "plt.plot(r.history['accuracy'], label='acc')\n",
        "plt.plot(r.history['val_accuracy'], label='val_acc')\n",
        "plt.legend()"
      ],
      "execution_count": null,
      "outputs": [
        {
          "output_type": "execute_result",
          "data": {
            "text/plain": [
              "<matplotlib.legend.Legend at 0x7f844da76c10>"
            ]
          },
          "metadata": {
            "tags": []
          },
          "execution_count": 18
        },
        {
          "output_type": "display_data",
          "data": {
            "image/png": "[encoded data removed]",
            "text/plain": [
              "<Figure size 432x288 with 1 Axes>"
            ]
          },
          "metadata": {
            "tags": [],
            "needs_background": "light"
          }
        }
      ]
    },
    {
      "cell_type": "markdown",
      "metadata": {
        "id": "sL9z4imo25KO"
      },
      "source": [
        "The training accuray, is increasing with the epochs but, the valid remains constant after the first 5 epochs."
      ]
    },
    {
      "cell_type": "code",
      "metadata": {
        "id": "izdAir67m1cE"
      },
      "source": [
        ""
      ],
      "execution_count": null,
      "outputs": []
    },
    {
      "cell_type": "markdown",
      "metadata": {
        "id": "weKslOwxnCsW"
      },
      "source": [
        "Building anothe model with Batch normalisation , to see if there is an improvement in performance."
      ]
    },
    {
      "cell_type": "code",
      "metadata": {
        "id": "pOddO7ptnMfD"
      },
      "source": [
        "#building the model with a batch normalisation layer before activation\n",
        "tf.keras.backend.clear_session()\n",
        "model = tf.keras.models.Sequential()\n",
        "model.add(tf.keras.layers.Flatten(input_shape=[32,32,3]))\n",
        "model.add(tf.keras.layers.BatchNormalization())\n",
        "for _ in range(20):\n",
        "  model.add(tf.keras.layers.Dense(units=100, kernel_initializer='he_normal'))\n",
        "  model.add(tf.keras.layers.BatchNormalization())\n",
        "  model.add(tf.keras.layers.Activation('elu'))\n",
        "model.add(tf.keras.layers.Dense(units=10, activation='softmax'))\n"
      ],
      "execution_count": null,
      "outputs": []
    },
    {
      "cell_type": "code",
      "metadata": {
        "id": "xITB6LNcqTGh"
      },
      "source": [
        " model.compile(optimizer=opti, loss=tf.keras.losses.sparse_categorical_crossentropy, metrics=['accuracy'])"
      ],
      "execution_count": null,
      "outputs": []
    },
    {
      "cell_type": "code",
      "metadata": {
        "colab": {
          "base_uri": "https://localhost:8080/"
        },
        "id": "CtNMOumHqfke",
        "outputId": "6cb1e623-f806-4045-8b5a-4969dc4815b3"
      },
      "source": [
        "model.fit(x_train, y_train, validation_split=0.2, epochs=100, callbacks=[early_stop])\n",
        "model.evaluate(x_test, y_test)"
      ],
      "execution_count": null,
      "outputs": [
        {
          "output_type": "stream",
          "text": [
            "Epoch 1/100\n",
            "1250/1250 [==============================] - 28s 23ms/step - loss: 1.6247 - accuracy: 0.4216 - val_loss: 1.5572 - val_accuracy: 0.4427\n",
            "Epoch 2/100\n",
            "1250/1250 [==============================] - 27s 21ms/step - loss: 1.5839 - accuracy: 0.4362 - val_loss: 1.5227 - val_accuracy: 0.4531\n",
            "Epoch 3/100\n",
            "1250/1250 [==============================] - 27s 21ms/step - loss: 1.5497 - accuracy: 0.4470 - val_loss: 1.5074 - val_accuracy: 0.4617\n",
            "Epoch 4/100\n",
            "1250/1250 [==============================] - 27s 22ms/step - loss: 1.5193 - accuracy: 0.4594 - val_loss: 1.4827 - val_accuracy: 0.4713\n",
            "Epoch 5/100\n",
            "1250/1250 [==============================] - 28s 22ms/step - loss: 1.4971 - accuracy: 0.4664 - val_loss: 1.4594 - val_accuracy: 0.4794\n",
            "Epoch 6/100\n",
            "1250/1250 [==============================] - 27s 22ms/step - loss: 1.4712 - accuracy: 0.4754 - val_loss: 1.4639 - val_accuracy: 0.4782\n",
            "Epoch 7/100\n",
            "1250/1250 [==============================] - 25s 20ms/step - loss: 1.4490 - accuracy: 0.4840 - val_loss: 1.4449 - val_accuracy: 0.4871\n",
            "Epoch 8/100\n",
            "1250/1250 [==============================] - 27s 21ms/step - loss: 1.4327 - accuracy: 0.4902 - val_loss: 1.4350 - val_accuracy: 0.4875\n",
            "Epoch 9/100\n",
            "1250/1250 [==============================] - 28s 22ms/step - loss: 1.4130 - accuracy: 0.4956 - val_loss: 1.4334 - val_accuracy: 0.4929\n",
            "Epoch 10/100\n",
            "1250/1250 [==============================] - 27s 22ms/step - loss: 1.3937 - accuracy: 0.5033 - val_loss: 1.4274 - val_accuracy: 0.4953\n",
            "Epoch 11/100\n",
            "1250/1250 [==============================] - 27s 21ms/step - loss: 1.3808 - accuracy: 0.5079 - val_loss: 1.4157 - val_accuracy: 0.4964\n",
            "Epoch 12/100\n",
            "1250/1250 [==============================] - 28s 22ms/step - loss: 1.3658 - accuracy: 0.5133 - val_loss: 1.4137 - val_accuracy: 0.5000\n",
            "Epoch 13/100\n",
            "1250/1250 [==============================] - 27s 22ms/step - loss: 1.3478 - accuracy: 0.5203 - val_loss: 1.4092 - val_accuracy: 0.4988\n",
            "Epoch 14/100\n",
            "1250/1250 [==============================] - 26s 21ms/step - loss: 1.3406 - accuracy: 0.5229 - val_loss: 1.4101 - val_accuracy: 0.5015\n",
            "Epoch 15/100\n",
            "1250/1250 [==============================] - 26s 21ms/step - loss: 1.3263 - accuracy: 0.5285 - val_loss: 1.4017 - val_accuracy: 0.5044\n",
            "Epoch 16/100\n",
            "1250/1250 [==============================] - 27s 21ms/step - loss: 1.3153 - accuracy: 0.5325 - val_loss: 1.3927 - val_accuracy: 0.5094\n",
            "Epoch 17/100\n",
            "1250/1250 [==============================] - 27s 21ms/step - loss: 1.3027 - accuracy: 0.5348 - val_loss: 1.3993 - val_accuracy: 0.5082\n",
            "Epoch 18/100\n",
            "1250/1250 [==============================] - 26s 21ms/step - loss: 1.2923 - accuracy: 0.5395 - val_loss: 1.3835 - val_accuracy: 0.5100\n",
            "Epoch 19/100\n",
            "1250/1250 [==============================] - 26s 21ms/step - loss: 1.2902 - accuracy: 0.5413 - val_loss: 1.3941 - val_accuracy: 0.5090\n",
            "Epoch 20/100\n",
            "1250/1250 [==============================] - 26s 21ms/step - loss: 1.2703 - accuracy: 0.5510 - val_loss: 1.3958 - val_accuracy: 0.5101\n",
            "Epoch 21/100\n",
            "1250/1250 [==============================] - 26s 21ms/step - loss: 1.2623 - accuracy: 0.5540 - val_loss: 1.3851 - val_accuracy: 0.5085\n",
            "Epoch 22/100\n",
            "1250/1250 [==============================] - 26s 21ms/step - loss: 1.2488 - accuracy: 0.5560 - val_loss: 1.3850 - val_accuracy: 0.5159\n",
            "Epoch 23/100\n",
            "1250/1250 [==============================] - 27s 21ms/step - loss: 1.2470 - accuracy: 0.5593 - val_loss: 1.3910 - val_accuracy: 0.5100\n",
            "Epoch 24/100\n",
            "1250/1250 [==============================] - 26s 21ms/step - loss: 1.2298 - accuracy: 0.5630 - val_loss: 1.4007 - val_accuracy: 0.5083\n",
            "Epoch 25/100\n",
            "1250/1250 [==============================] - 26s 21ms/step - loss: 1.2194 - accuracy: 0.5672 - val_loss: 1.3850 - val_accuracy: 0.5114\n",
            "Epoch 26/100\n",
            "1250/1250 [==============================] - 27s 22ms/step - loss: 1.2193 - accuracy: 0.5648 - val_loss: 1.3963 - val_accuracy: 0.5110\n",
            "Epoch 27/100\n",
            "1250/1250 [==============================] - 27s 21ms/step - loss: 1.2077 - accuracy: 0.5690 - val_loss: 1.3858 - val_accuracy: 0.5143\n",
            "Epoch 28/100\n",
            "1250/1250 [==============================] - 27s 21ms/step - loss: 1.1980 - accuracy: 0.5769 - val_loss: 1.3793 - val_accuracy: 0.5117\n",
            "Epoch 29/100\n",
            "1250/1250 [==============================] - 27s 22ms/step - loss: 1.1852 - accuracy: 0.5792 - val_loss: 1.3899 - val_accuracy: 0.5146\n",
            "Epoch 30/100\n",
            "1250/1250 [==============================] - 26s 21ms/step - loss: 1.1831 - accuracy: 0.5799 - val_loss: 1.3862 - val_accuracy: 0.5178\n",
            "Epoch 31/100\n",
            "1250/1250 [==============================] - 26s 21ms/step - loss: 1.1741 - accuracy: 0.5834 - val_loss: 1.3898 - val_accuracy: 0.5126\n",
            "Epoch 32/100\n",
            "1250/1250 [==============================] - 26s 21ms/step - loss: 1.1569 - accuracy: 0.5911 - val_loss: 1.3998 - val_accuracy: 0.5073\n",
            "Epoch 33/100\n",
            "1250/1250 [==============================] - 27s 21ms/step - loss: 1.1559 - accuracy: 0.5908 - val_loss: 1.3878 - val_accuracy: 0.5187\n",
            "Epoch 34/100\n",
            "1250/1250 [==============================] - 26s 21ms/step - loss: 1.1487 - accuracy: 0.5921 - val_loss: 1.3921 - val_accuracy: 0.5146\n",
            "Epoch 35/100\n",
            "1250/1250 [==============================] - 26s 21ms/step - loss: 1.1402 - accuracy: 0.5943 - val_loss: 1.3889 - val_accuracy: 0.5206\n",
            "Epoch 36/100\n",
            "1250/1250 [==============================] - 26s 21ms/step - loss: 1.1364 - accuracy: 0.5947 - val_loss: 1.3945 - val_accuracy: 0.5165\n",
            "Epoch 37/100\n",
            "1250/1250 [==============================] - 26s 21ms/step - loss: 1.1210 - accuracy: 0.6015 - val_loss: 1.4015 - val_accuracy: 0.5147\n",
            "Epoch 38/100\n",
            "1250/1250 [==============================] - 26s 21ms/step - loss: 1.1221 - accuracy: 0.6002 - val_loss: 1.4056 - val_accuracy: 0.5149\n",
            "313/313 [==============================] - 1s 4ms/step - loss: 1.4001 - accuracy: 0.5124\n"
          ],
          "name": "stdout"
        },
        {
          "output_type": "execute_result",
          "data": {
            "text/plain": [
              "[1.4000872373580933, 0.5123999714851379]"
            ]
          },
          "metadata": {
            "tags": []
          },
          "execution_count": 28
        }
      ]
    },
    {
      "cell_type": "markdown",
      "metadata": {
        "id": "kH9rOGld2oEr"
      },
      "source": [
        "Looks like there is not much improvement in loss , even after using Batch normalisation and also the convergence rate is same as before"
      ]
    },
    {
      "cell_type": "markdown",
      "metadata": {
        "id": "zRRKHmyE220U"
      },
      "source": [
        "Replacing Batch normalisation with SELU."
      ]
    },
    {
      "cell_type": "code",
      "metadata": {
        "colab": {
          "base_uri": "https://localhost:8080/"
        },
        "id": "5mAkSI7A3Kr4",
        "outputId": "55d3478e-99ae-4235-e02d-c3b86a579c02"
      },
      "source": [
        "#model with selu activation\n",
        "tf.keras.backend.clear_session()\n",
        "model = tf.keras.models.Sequential()\n",
        "model.add(tf.keras.layers.Flatten(input_shape=[32,32,3]))\n",
        "for _ in range(20):\n",
        "  model.add(tf.keras.layers.Dense(100, activation='selu', kernel_initializer='lecun_normal'))\n",
        "model.add(tf.keras.layers.Dense(10, activation='softmax'))\n",
        "\n",
        "model.compile(optimizer=opti, loss = tf.keras.losses.sparse_categorical_crossentropy, metrics=['accuracy'])\n",
        "\n",
        "#scaling x_train and x_test\n",
        "x_train_mean = x_train.mean(axis=0)\n",
        "x_train_std = x_train.std(axis=0)\n",
        "x_test_mean = x_test.mean(axis=0)\n",
        "x_test_std = x_test.std(axis=0)\n",
        "x_train_scaled = (x_train - x_train_mean)/x_train_std\n",
        "x_test_scaled = (x_test - x_train_mean)/x_test_std\n",
        "model.fit(x_train_scaled, y_train, epochs=100, validation_split=0.2, callbacks=[early_stop])\n",
        "model.evaluate(x_test_scaled, y_test)"
      ],
      "execution_count": null,
      "outputs": [
        {
          "output_type": "stream",
          "text": [
            "Epoch 1/100\n",
            "1250/1250 [==============================] - 21s 14ms/step - loss: 1.9601 - accuracy: 0.2971 - val_loss: 1.6993 - val_accuracy: 0.3927\n",
            "Epoch 2/100\n",
            "1250/1250 [==============================] - 17s 14ms/step - loss: 1.6299 - accuracy: 0.4169 - val_loss: 1.6120 - val_accuracy: 0.4315\n",
            "Epoch 3/100\n",
            "1250/1250 [==============================] - 18s 14ms/step - loss: 1.5120 - accuracy: 0.4586 - val_loss: 1.5916 - val_accuracy: 0.4313\n",
            "Epoch 4/100\n",
            "1250/1250 [==============================] - 18s 14ms/step - loss: 1.4368 - accuracy: 0.4887 - val_loss: 1.5608 - val_accuracy: 0.4493\n",
            "Epoch 5/100\n",
            "1250/1250 [==============================] - 18s 14ms/step - loss: 1.3797 - accuracy: 0.5080 - val_loss: 1.5490 - val_accuracy: 0.4564\n",
            "Epoch 6/100\n",
            "1250/1250 [==============================] - 18s 14ms/step - loss: 1.3296 - accuracy: 0.5281 - val_loss: 1.5390 - val_accuracy: 0.4644\n",
            "Epoch 7/100\n",
            "1250/1250 [==============================] - 17s 14ms/step - loss: 1.2829 - accuracy: 0.5426 - val_loss: 1.5195 - val_accuracy: 0.4708\n",
            "Epoch 8/100\n",
            "1250/1250 [==============================] - 18s 14ms/step - loss: 1.2469 - accuracy: 0.5598 - val_loss: 1.5212 - val_accuracy: 0.4682\n",
            "Epoch 9/100\n",
            "1250/1250 [==============================] - 17s 14ms/step - loss: 1.1962 - accuracy: 0.5763 - val_loss: 1.5177 - val_accuracy: 0.4696\n",
            "Epoch 10/100\n",
            "1250/1250 [==============================] - 18s 14ms/step - loss: 1.1592 - accuracy: 0.5890 - val_loss: 1.5307 - val_accuracy: 0.4731\n",
            "Epoch 11/100\n",
            "1250/1250 [==============================] - 18s 15ms/step - loss: 1.1117 - accuracy: 0.6092 - val_loss: 1.5340 - val_accuracy: 0.4751\n",
            "Epoch 12/100\n",
            "1250/1250 [==============================] - 18s 15ms/step - loss: 1.0843 - accuracy: 0.6185 - val_loss: 1.5322 - val_accuracy: 0.4769\n",
            "Epoch 13/100\n",
            "1250/1250 [==============================] - 19s 15ms/step - loss: 1.0550 - accuracy: 0.6278 - val_loss: 1.5547 - val_accuracy: 0.4797\n",
            "Epoch 14/100\n",
            "1250/1250 [==============================] - 18s 14ms/step - loss: 1.0170 - accuracy: 0.6449 - val_loss: 1.5497 - val_accuracy: 0.4800\n",
            "Epoch 15/100\n",
            "1250/1250 [==============================] - 18s 14ms/step - loss: 0.9872 - accuracy: 0.6549 - val_loss: 1.5995 - val_accuracy: 0.4730\n",
            "Epoch 16/100\n",
            "1250/1250 [==============================] - 17s 14ms/step - loss: 0.9627 - accuracy: 0.6612 - val_loss: 1.6047 - val_accuracy: 0.4807\n",
            "Epoch 17/100\n",
            "1250/1250 [==============================] - 17s 14ms/step - loss: 0.9347 - accuracy: 0.6701 - val_loss: 1.6342 - val_accuracy: 0.4768\n",
            "Epoch 18/100\n",
            "1250/1250 [==============================] - 17s 14ms/step - loss: 0.9000 - accuracy: 0.6830 - val_loss: 1.6396 - val_accuracy: 0.4864\n",
            "Epoch 19/100\n",
            "1250/1250 [==============================] - 17s 14ms/step - loss: 0.8687 - accuracy: 0.6947 - val_loss: 1.6617 - val_accuracy: 0.4749\n",
            "313/313 [==============================] - 1s 3ms/step - loss: 1.4875 - accuracy: 0.4844\n"
          ],
          "name": "stdout"
        },
        {
          "output_type": "execute_result",
          "data": {
            "text/plain": [
              "[1.4874615669250488, 0.4844000041484833]"
            ]
          },
          "metadata": {
            "tags": []
          },
          "execution_count": 34
        }
      ]
    },
    {
      "cell_type": "markdown",
      "metadata": {
        "id": "XfY3RD6bkCbZ"
      },
      "source": [
        "Looks like the model accuracy has dropped when compared to Batch normalisatiion from 0.51 to 0.48, but this model with selu activation converges faster and the average time for each epoch is 15s which is way less."
      ]
    },
    {
      "cell_type": "markdown",
      "metadata": {
        "id": "HFmBcvKCnnX-"
      },
      "source": [
        "Adding alphadropout, to see if the model performance improves."
      ]
    },
    {
      "cell_type": "code",
      "metadata": {
        "colab": {
          "base_uri": "https://localhost:8080/"
        },
        "id": "NyE5Ax5Q51LG",
        "outputId": "4392666c-9c13-44a1-d450-4c02b254309e"
      },
      "source": [
        "#model with alphadroput\n",
        "model = tf.keras.models.Sequential()\n",
        "model.add(tf.keras.layers.Flatten(input_shape=(32,32,3)))\n",
        "for _ in range(20):\n",
        "  model.add(tf.keras.layers.Dense(100, activation='selu', kernel_initializer='lecun_normal'))\n",
        "model.add(tf.keras.layers.AlphaDropout(0.1))\n",
        "model.add(tf.keras.layers.Dense(10, activation='softmax'))\n",
        "\n",
        "#compiling the model \n",
        "model.compile(optimizer = opti, loss=tf.keras.losses.sparse_categorical_crossentropy, metrics=['accuracy'])\n",
        "early_stop = tf.keras.callbacks.EarlyStopping(patience=10, restore_best_weights=True)\n",
        "#normalising the data\n",
        "x_train_mean = x_train.mean()\n",
        "x_train_std = x_train.std()\n",
        "x_train_scaled = (x_train - x_train_mean)/x_train_std\n",
        "\n",
        "x_test_mean = x_test.mean()\n",
        "x_test_std = x_test.std()\n",
        "x_test_scaled = (x_test - x_test_mean)/x_test_std\n",
        "\n",
        "#fitting the data\n",
        "\n",
        "model.fit(x_train_scaled, y_train, epochs=100, validation_split=0.2, callbacks=[early_stop])\n",
        "model.evaluate(x_test_scaled, y_test)\n"
      ],
      "execution_count": null,
      "outputs": [
        {
          "output_type": "stream",
          "text": [
            "Epoch 1/100\n",
            "1250/1250 [==============================] - 18s 12ms/step - loss: 2.2085 - accuracy: 0.2407 - val_loss: 1.7751 - val_accuracy: 0.3746\n",
            "Epoch 2/100\n",
            "1250/1250 [==============================] - 15s 12ms/step - loss: 1.7729 - accuracy: 0.3744 - val_loss: 1.6562 - val_accuracy: 0.4229\n",
            "Epoch 3/100\n",
            "1250/1250 [==============================] - 15s 12ms/step - loss: 1.6208 - accuracy: 0.4246 - val_loss: 1.6247 - val_accuracy: 0.4445\n",
            "Epoch 4/100\n",
            "1250/1250 [==============================] - 15s 12ms/step - loss: 1.5150 - accuracy: 0.4607 - val_loss: 1.5919 - val_accuracy: 0.4520\n",
            "Epoch 5/100\n",
            "1250/1250 [==============================] - 15s 12ms/step - loss: 1.4580 - accuracy: 0.4838 - val_loss: 1.5789 - val_accuracy: 0.4613\n",
            "Epoch 6/100\n",
            "1250/1250 [==============================] - 15s 12ms/step - loss: 1.3862 - accuracy: 0.5081 - val_loss: 1.5705 - val_accuracy: 0.4685\n",
            "Epoch 7/100\n",
            "1250/1250 [==============================] - 15s 12ms/step - loss: 1.3472 - accuracy: 0.5177 - val_loss: 1.5524 - val_accuracy: 0.4776\n",
            "Epoch 8/100\n",
            "1250/1250 [==============================] - 15s 12ms/step - loss: 1.2932 - accuracy: 0.5388 - val_loss: 1.5485 - val_accuracy: 0.4784\n",
            "Epoch 9/100\n",
            "1250/1250 [==============================] - 15s 12ms/step - loss: 1.2646 - accuracy: 0.5545 - val_loss: 1.5819 - val_accuracy: 0.4738\n",
            "Epoch 10/100\n",
            "1250/1250 [==============================] - 15s 12ms/step - loss: 1.2174 - accuracy: 0.5624 - val_loss: 1.6109 - val_accuracy: 0.4761\n",
            "Epoch 11/100\n",
            "1250/1250 [==============================] - 15s 12ms/step - loss: 1.1800 - accuracy: 0.5769 - val_loss: 1.5914 - val_accuracy: 0.4869\n",
            "Epoch 12/100\n",
            "1250/1250 [==============================] - 15s 12ms/step - loss: 1.1440 - accuracy: 0.5941 - val_loss: 1.6552 - val_accuracy: 0.4844\n",
            "Epoch 13/100\n",
            "1250/1250 [==============================] - 15s 12ms/step - loss: 1.1189 - accuracy: 0.5996 - val_loss: 1.6204 - val_accuracy: 0.4865\n",
            "Epoch 14/100\n",
            "1250/1250 [==============================] - 15s 12ms/step - loss: 1.0768 - accuracy: 0.6182 - val_loss: 1.6337 - val_accuracy: 0.4827\n",
            "Epoch 15/100\n",
            "1250/1250 [==============================] - 15s 12ms/step - loss: 1.0450 - accuracy: 0.6302 - val_loss: 1.6890 - val_accuracy: 0.4841\n",
            "Epoch 16/100\n",
            "1250/1250 [==============================] - 15s 12ms/step - loss: 1.0313 - accuracy: 0.6308 - val_loss: 1.6817 - val_accuracy: 0.4841\n",
            "Epoch 17/100\n",
            "1250/1250 [==============================] - 15s 12ms/step - loss: 0.9883 - accuracy: 0.6488 - val_loss: 1.7312 - val_accuracy: 0.4791\n",
            "Epoch 18/100\n",
            "1250/1250 [==============================] - 15s 12ms/step - loss: 0.9578 - accuracy: 0.6574 - val_loss: 1.7631 - val_accuracy: 0.4814\n",
            "313/313 [==============================] - 1s 2ms/step - loss: 1.5229 - accuracy: 0.4823\n"
          ],
          "name": "stdout"
        },
        {
          "output_type": "execute_result",
          "data": {
            "text/plain": [
              "[1.522856593132019, 0.4823000133037567]"
            ]
          },
          "metadata": {
            "tags": []
          },
          "execution_count": 8
        }
      ]
    },
    {
      "cell_type": "markdown",
      "metadata": {
        "id": "PXKP5bRw9I-7"
      },
      "source": [
        "The model performance hasnt imporved much when compared to the previous one but, it has converged faster within 18 epochs."
      ]
    },
    {
      "cell_type": "code",
      "metadata": {
        "id": "vR4HAplf-mhn"
      },
      "source": [
        ""
      ],
      "execution_count": null,
      "outputs": []
    }
  ]
}